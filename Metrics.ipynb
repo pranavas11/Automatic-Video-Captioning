{
 "cells": [
  {
   "cell_type": "code",
   "execution_count": 1,
   "id": "09027237-f279-4b87-8d79-9e46e87610b6",
   "metadata": {},
   "outputs": [],
   "source": [
    "import difflib\n",
    "from nltk.translate.bleu_score import corpus_bleu\n",
    "from rouge import Rouge\n",
    "from nltk.translate.meteor_score import meteor_score, single_meteor_score\n",
    "from nltk.tokenize import word_tokenize"
   ]
  },
  {
   "cell_type": "code",
   "execution_count": 2,
   "id": "d90cbebe-e834-4f07-99a6-70aacf03b529",
   "metadata": {},
   "outputs": [
    {
     "name": "stderr",
     "output_type": "stream",
     "text": [
      "[nltk_data] Error loading wordnet: <urlopen error [WinError 10054] An\n",
      "[nltk_data]     existing connection was forcibly closed by the remote\n",
      "[nltk_data]     host>\n"
     ]
    },
    {
     "data": {
      "text/plain": [
       "False"
      ]
     },
     "execution_count": 2,
     "metadata": {},
     "output_type": "execute_result"
    }
   ],
   "source": [
    "import nltk\n",
    "nltk.download('wordnet')"
   ]
  },
  {
   "cell_type": "code",
   "execution_count": 3,
   "id": "53ef30d4-9a27-4ec7-8134-fb99ab431f13",
   "metadata": {},
   "outputs": [
    {
     "name": "stderr",
     "output_type": "stream",
     "text": [
      "[nltk_data] Error loading punkt: <urlopen error [WinError 10054] An\n",
      "[nltk_data]     existing connection was forcibly closed by the remote\n",
      "[nltk_data]     host>\n"
     ]
    },
    {
     "data": {
      "text/plain": [
       "False"
      ]
     },
     "execution_count": 3,
     "metadata": {},
     "output_type": "execute_result"
    }
   ],
   "source": [
    "import nltk\n",
    "nltk.download('punkt')"
   ]
  },
  {
   "cell_type": "code",
   "execution_count": 4,
   "id": "c1aa8238-c2f1-43db-986f-3c228ed476da",
   "metadata": {},
   "outputs": [],
   "source": [
    "#Open data files\n",
    "msvd = open(\"data/msvd.txt\", 'r') #MSVD dataset reference file\n",
    "greedy = open(\"data/greedy.txt\", 'r') #Greedy CNN ran with MSVD videos\n",
    "a_greedy = open(\"data/greedy_adversarial.txt\", 'r') #Greedy CNN ran with adversarial examples of MSVD videos\n",
    "llava = open(\"data/llava.txt\", 'r') #LLaVA UI ran with MSVD videos\n",
    "a_llava = open(\"data/llava_adversarial.txt\", 'r') #LLaVA UI ran with adversarial examples of MSVD videos"
   ]
  },
  {
   "cell_type": "code",
   "execution_count": 5,
   "id": "a10e6813-54eb-4e9f-8462-b2eb86e6e0a7",
   "metadata": {},
   "outputs": [],
   "source": [
    "msvd_captions = {}\n",
    "for line in msvd:\n",
    "    video_id, caption = line.strip().split('\\t')\n",
    "    msvd_captions.setdefault(video_id, []).append(caption)"
   ]
  },
  {
   "cell_type": "code",
   "execution_count": 6,
   "id": "b5d40d12-1893-4fe4-9d06-72b669eea2e6",
   "metadata": {},
   "outputs": [],
   "source": [
    "greedy_captions = {}\n",
    "for line in greedy:\n",
    "    video_id, caption = line.strip().split('\\t')\n",
    "    greedy_captions.setdefault(video_id, []).append(caption)"
   ]
  },
  {
   "cell_type": "code",
   "execution_count": 7,
   "id": "191bdae3-d812-4321-bd61-2e2daa4f72a2",
   "metadata": {},
   "outputs": [],
   "source": [
    "a_greedy_captions = {}\n",
    "for line in a_greedy:\n",
    "    video_id, caption = line.strip().split('\\t')\n",
    "    a_greedy_captions.setdefault(video_id, []).append(caption)"
   ]
  },
  {
   "cell_type": "code",
   "execution_count": 8,
   "id": "13c8bd44-b457-453f-8e08-ad3b6cdb9e2a",
   "metadata": {},
   "outputs": [],
   "source": [
    "llava_captions = {}\n",
    "for line in llava:\n",
    "    video_id, caption = line.strip().split('\\t')\n",
    "    llava_captions.setdefault(video_id, []).append(caption)"
   ]
  },
  {
   "cell_type": "code",
   "execution_count": 9,
   "id": "91391a5f-651b-4ad2-b7eb-9bcad639b23d",
   "metadata": {},
   "outputs": [],
   "source": [
    "a_llava_captions = {}\n",
    "for line in a_llava:\n",
    "    video_id, caption = line.strip().split('\\t')\n",
    "    a_llava_captions.setdefault(video_id, []).append(caption)"
   ]
  },
  {
   "cell_type": "code",
   "execution_count": 10,
   "id": "1d5ba3c9-ad4f-4c65-ad65-f37a3e3cc240",
   "metadata": {},
   "outputs": [],
   "source": [
    "def format_captions_file(file_path):\n",
    "    video_captions = {}\n",
    "    with open(file_path, 'r') as file:\n",
    "        for line in file:\n",
    "            video_name, caption = line.strip().split('\\t')\n",
    "            caption = caption.replace('\\n', '')  # Remove any newlines\n",
    "            if video_name in video_captions:\n",
    "                video_captions[video_name].append(caption.split())\n",
    "            else:\n",
    "                video_captions[video_name] = [caption.split()]\n",
    "    return video_captions"
   ]
  },
  {
   "cell_type": "code",
   "execution_count": 11,
   "id": "1af5aee1-9e3a-4aea-81fe-f1c5235020e0",
   "metadata": {},
   "outputs": [],
   "source": [
    "msvd_data = format_captions_file(\"data/msvd.txt\")\n",
    "greedy_data = format_captions_file(\"data/greedy.txt\")\n",
    "a_greedy_data = format_captions_file(\"data/greedy_adversarial.txt\")\n",
    "llava_data = format_captions_file(\"data/llava.txt\")\n",
    "a_llava_data = format_captions_file(\"data/llava_adversarial.txt\")"
   ]
  },
  {
   "cell_type": "code",
   "execution_count": 12,
   "id": "56841075-2e3b-4a54-8e4d-d1ada313e18a",
   "metadata": {},
   "outputs": [],
   "source": [
    "def calculate_rouge_l_score(reference_data, hypothesis_data):\n",
    "    rouge = Rouge()\n",
    "    scores = []\n",
    "    \n",
    "    for video_id, hypothesis_caption in hypothesis_data.items():\n",
    "        reference_captions = reference_data.get(video_id, [])\n",
    "        \n",
    "        reference_scores = []\n",
    "        for reference_caption in reference_captions:\n",
    "            score = rouge.get_scores(hypothesis_caption[0], reference_caption)\n",
    "            rouge_l_score = score[0]['rouge-l']['f']\n",
    "            reference_scores.append(rouge_l_score)\n",
    "        \n",
    "        video_score = sum(reference_scores) / len(reference_scores) #avg rouge score of different reference captions for same video id\n",
    "        scores.append(video_score)\n",
    "\n",
    "    return sum(scores) / len(scores) #average of rouge-l scores for each video_id\n"
   ]
  },
  {
   "cell_type": "code",
   "execution_count": 13,
   "id": "2322b5f9-ef97-4833-934b-d968961c32cf",
   "metadata": {},
   "outputs": [
    {
     "data": {
      "text/plain": [
       "0.3031198773294219"
      ]
     },
     "execution_count": 13,
     "metadata": {},
     "output_type": "execute_result"
    }
   ],
   "source": [
    "#ROUGE-L Score for Greedy CNN \n",
    "r_greedy = calculate_rouge_l_score(msvd_captions, greedy_captions)\n",
    "r_greedy"
   ]
  },
  {
   "cell_type": "code",
   "execution_count": 14,
   "id": "ee1e3477-2326-4558-b02e-62450363f3fa",
   "metadata": {},
   "outputs": [
    {
     "data": {
      "text/plain": [
       "0.3023355286547355"
      ]
     },
     "execution_count": 14,
     "metadata": {},
     "output_type": "execute_result"
    }
   ],
   "source": [
    "#ROUGE-L Score for Greedy CNN (Adversarial)\n",
    "r_a_greedy = calculate_rouge_l_score(msvd_captions, a_greedy_captions)\n",
    "r_a_greedy"
   ]
  },
  {
   "cell_type": "code",
   "execution_count": 15,
   "id": "96f0a444-b0e3-4829-a317-3eea7b4d5f0f",
   "metadata": {},
   "outputs": [
    {
     "data": {
      "text/plain": [
       "0.2426077790913993"
      ]
     },
     "execution_count": 15,
     "metadata": {},
     "output_type": "execute_result"
    }
   ],
   "source": [
    "#ROUGE-L Score for LLaVA\n",
    "r_llava = calculate_rouge_l_score(msvd_captions, llava_captions)\n",
    "r_llava"
   ]
  },
  {
   "cell_type": "code",
   "execution_count": 16,
   "id": "f3fa45cc-fdd4-4607-9f94-7e2bb534d73a",
   "metadata": {},
   "outputs": [
    {
     "data": {
      "text/plain": [
       "0.23943844852991245"
      ]
     },
     "execution_count": 16,
     "metadata": {},
     "output_type": "execute_result"
    }
   ],
   "source": [
    "#ROUGE-L Score for LLaVA\n",
    "r_a_llava = calculate_rouge_l_score(msvd_captions, a_llava_captions)\n",
    "r_a_llava"
   ]
  },
  {
   "cell_type": "code",
   "execution_count": 17,
   "id": "0a7e911d-2b47-484d-88bb-3817abc691db",
   "metadata": {},
   "outputs": [],
   "source": [
    "def calculate_meteor_score(reference_data, hypothesis_data):\n",
    "    score = 0\n",
    "    video_count = 0\n",
    "    for video_name, hypothesis_caption in hypothesis_data.items():\n",
    "        reference_captions = reference_data.get(video_name, [])  # Get reference captions for the current video\n",
    "        score += round(meteor_score(reference_captions, hypothesis_caption[0]), 4)\n",
    "        video_count+=1\n",
    "\n",
    "    score = round(score/video_count, 4)\n",
    "    return score"
   ]
  },
  {
   "cell_type": "code",
   "execution_count": 18,
   "id": "a273e72d-07b6-49a5-b2db-6c66901b078d",
   "metadata": {},
   "outputs": [
    {
     "data": {
      "text/plain": [
       "0.4803"
      ]
     },
     "execution_count": 18,
     "metadata": {},
     "output_type": "execute_result"
    }
   ],
   "source": [
    "#METEOR Score for Greedy CNN\n",
    "m_greedy = calculate_meteor_score(msvd_data, greedy_data)\n",
    "m_greedy"
   ]
  },
  {
   "cell_type": "code",
   "execution_count": 19,
   "id": "a03fc94e-c591-461d-bd35-bf73f456fad1",
   "metadata": {},
   "outputs": [
    {
     "data": {
      "text/plain": [
       "0.4619"
      ]
     },
     "execution_count": 19,
     "metadata": {},
     "output_type": "execute_result"
    }
   ],
   "source": [
    "#METEOR Score for Greedy CNN (Adversarial)\n",
    "m_a_greedy = calculate_meteor_score(msvd_data, a_greedy_data)\n",
    "m_a_greedy"
   ]
  },
  {
   "cell_type": "code",
   "execution_count": 20,
   "id": "fb710818-414d-4887-b0d0-d31923488c75",
   "metadata": {},
   "outputs": [
    {
     "data": {
      "text/plain": [
       "0.6001"
      ]
     },
     "execution_count": 20,
     "metadata": {},
     "output_type": "execute_result"
    }
   ],
   "source": [
    "#METEOR Score for LLaVA\n",
    "m_llava = calculate_meteor_score(msvd_data, llava_data)\n",
    "m_llava"
   ]
  },
  {
   "cell_type": "code",
   "execution_count": 21,
   "id": "f3d23143-28b1-4053-889c-56ea6a276ea5",
   "metadata": {},
   "outputs": [
    {
     "data": {
      "text/plain": [
       "0.6029"
      ]
     },
     "execution_count": 21,
     "metadata": {},
     "output_type": "execute_result"
    }
   ],
   "source": [
    "#METEOR Score for LLaVA (Adversarial)\n",
    "m_a_llava = calculate_meteor_score(msvd_data, a_llava_data)\n",
    "m_a_llava"
   ]
  },
  {
   "cell_type": "code",
   "execution_count": 22,
   "id": "a4199e99-79f9-473c-8e91-61d875de3822",
   "metadata": {},
   "outputs": [],
   "source": [
    "def calculate_bleu_score(reference_captions, hypothesis_captions):\n",
    "        \n",
    "    hypotheses = []\n",
    "    list_of_references = []\n",
    "\n",
    "    for video_name, hypothesis_caption in hypothesis_captions.items():\n",
    "        list_of_references.append(reference_captions.get(video_name))   # Get reference captions for the current video\n",
    "        hypotheses.append(hypothesis_caption[0])\n",
    "\n",
    "    bleu_score = corpus_bleu(list_of_references, hypotheses, weights = [(1,0,0,0), (0,1,0,0), (0,0,1,0), (0,0,0,1)]) \n",
    "    print(f\"BLEU-1: {bleu_score[0]}\\nBLEU-2: {bleu_score[1]}\\nBLEU-3: {bleu_score[2]}\\nBLEU-4: {bleu_score[3]}\\n\")\n"
   ]
  },
  {
   "cell_type": "code",
   "execution_count": 23,
   "id": "aaa2a13b-86f5-4639-b39b-0e255088bfdb",
   "metadata": {},
   "outputs": [
    {
     "name": "stdout",
     "output_type": "stream",
     "text": [
      "BLEU-1: 0.7508650519031141\n",
      "BLEU-2: 0.3556485355648535\n",
      "BLEU-3: 0.19576719576719576\n",
      "BLEU-4: 0.06474820143884892\n",
      "\n"
     ]
    }
   ],
   "source": [
    "#BLEU-4 Score for Greedy CNN \n",
    "b_greedy = calculate_bleu_score(msvd_data, greedy_data)\n",
    "b_greedy"
   ]
  },
  {
   "cell_type": "code",
   "execution_count": 24,
   "id": "8255b7f6-655c-4a3e-8744-c12543040236",
   "metadata": {},
   "outputs": [
    {
     "name": "stdout",
     "output_type": "stream",
     "text": [
      "BLEU-1: 0.7460035523978685\n",
      "BLEU-2: 0.3304535637149028\n",
      "BLEU-3: 0.15977961432506887\n",
      "BLEU-4: 0.03802281368821293\n",
      "\n"
     ]
    }
   ],
   "source": [
    "#BLEU-4 Score for Greedy CNN (Adversarial Examples) \n",
    "b_a_greedy = calculate_bleu_score(msvd_data, a_greedy_data)\n",
    "b_a_greedy"
   ]
  },
  {
   "cell_type": "code",
   "execution_count": 25,
   "id": "c7073746-b44f-4bb8-9067-f270c2052168",
   "metadata": {},
   "outputs": [
    {
     "name": "stdout",
     "output_type": "stream",
     "text": [
      "BLEU-1: 0.5592982456140351\n",
      "BLEU-2: 0.2573584905660377\n",
      "BLEU-3: 0.11020408163265306\n",
      "BLEU-4: 0.050666666666666665\n",
      "\n"
     ]
    }
   ],
   "source": [
    "#BLEU-4 Score for LLaVA \n",
    "b_llava = calculate_bleu_score(msvd_data, llava_data)\n",
    "b_llava"
   ]
  },
  {
   "cell_type": "code",
   "execution_count": 26,
   "id": "73709740-eda0-4be2-9783-58ff7943879f",
   "metadata": {},
   "outputs": [
    {
     "name": "stdout",
     "output_type": "stream",
     "text": [
      "BLEU-1: 0.5717344753747323\n",
      "BLEU-2: 0.26518063028439665\n",
      "BLEU-3: 0.11157368859283927\n",
      "BLEU-4: 0.04268846503178928\n",
      "\n"
     ]
    }
   ],
   "source": [
    "#BLEU-4 Score for LLaVA (Adversarial Examples) \n",
    "b_a_llava = calculate_bleu_score(msvd_data, a_llava_data)\n",
    "b_a_llava"
   ]
  },
  {
   "cell_type": "markdown",
   "id": "90d9dac3-7221-4fed-b73c-c4b006b312ed",
   "metadata": {},
   "source": [
    "$\\textbf{References:}$\n",
    "\n",
    "$\\text{ROUGE-L Score Code:}$\n",
    "[1] https://pypi.org/project/rouge/\n",
    "\n",
    "$\\text{METEOR Score Code:}$\n",
    "[2] https://www.nltk.org/api/nltk.translate.meteor_score.html\n",
    "\n",
    "$\\text{BLEU Scores Code:}$\n",
    "[3] https://www.nltk.org/_modules/nltk/translate/bleu_score.html\n"
   ]
  }
 ],
 "metadata": {
  "kernelspec": {
   "display_name": "Python 3 (ipykernel)",
   "language": "python",
   "name": "python3"
  },
  "language_info": {
   "codemirror_mode": {
    "name": "ipython",
    "version": 3
   },
   "file_extension": ".py",
   "mimetype": "text/x-python",
   "name": "python",
   "nbconvert_exporter": "python",
   "pygments_lexer": "ipython3",
   "version": "3.10.14"
  }
 },
 "nbformat": 4,
 "nbformat_minor": 5
}
